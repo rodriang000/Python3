{
 "cells": [
  {
   "cell_type": "markdown",
   "metadata": {},
   "source": [
    "# Overview\n",
    "Angel \"Yaboi\" Rodriguez\n",
    "\n",
    "What I did was at the begining I used all the imports for all the functions I would need later. I then planned on extracting the years from the headerline, and used requests.get to get the information from the website. I then only cared about the first line so I split it 1 time with \\'n' as a delimiter. I split it again and had a for loop to get rid of the las comma that 2020 has, which is dumb. \n",
    "\n",
    "Next I set up my nested dictionary, called mydic. I had the innerkey be all the letters I would look for and had a for loop where I made a dictionary within a dictionary for every year and then another key for the type of data I was collectiong. I then set the default values to zero to be incremented later. print(mydic['2013'] was a test to see if I had the right format and way to access the data.\n",
    "\n",
    "The next thing to do was go through the information and store the years. I had a variable called year data which was a list and split up all the information from the file into a list of lists which had the data for every year. Then for every year list. I had a tuple which was the location and value of each string in the list. Depending on the position the year it corresponded to changed. For examples, positions 0 and 1 in the year list correspond to the year 2013, 1 and 2 correspond to 2014 and so on. This continued on until I get to the end. I learned how to use a try statement see if there is a legit key or an empty cell, if there is a legit key the value at that location and year iterates by one. If there is an error such tahat the key doesn't exit, the program ignores it and continues to the next element of the string. At the end I wanted to see if I had the correct values stored so I place a print(mydic) at the end. \n",
    "\n",
    "For plot_gender_pct, I pretty much just copied what Bui did but swapping out variables for the my own. \n",
    "For plot_echnicity_pct I copied the format that Bui did for the last plot, and made lists for every year for every ethnicity. With that I got their percentage out of 100 and appended them to the list. I created a lables list and put a figure named ax, which took data ranging from years (2013 to 2020) and plotted with the lables. Legend moved the plot to the bottom right and plt.show shows. \n",
    "\n",
    "My takeaway was that I can ignore errors and continue with the program as I did for the misssing key. \n",
    "\n"
   ]
  },
  {
   "cell_type": "markdown",
   "metadata": {},
   "source": [
    "# Methodology\n",
    "It's pretty much explained in the overview. "
   ]
  },
  {
   "cell_type": "code",
   "execution_count": 2,
   "metadata": {
    "collapsed": true
   },
   "outputs": [],
   "source": [
    "\n",
    "# Imports\n",
    "import matplotlib.pyplot as plt\n",
    "import collections\n",
    "import requests\n",
    "\n",
    "%matplotlib inline\n",
    "\n",
    "url = \"https://www3.nd.edu/~pbui/teaching/cse.20289.sp18/static/csv/demographics.csv\"\n"
   ]
  },
  {
   "cell_type": "code",
   "execution_count": 3,
   "metadata": {},
   "outputs": [
    {
     "name": "stdout",
     "output_type": "stream",
     "text": [
      "['2013', '2014', '2015', '2016', '2017', '2018', '2019', '2020']\n"
     ]
    }
   ],
   "source": [
    "# Extract years from header line\n",
    "years = []\n",
    "\n",
    "info = requests.get(url)\n",
    "firstline = []\n",
    "firstline = info.text.split('\\n', 1)[0] # First endline\n",
    "years = firstline.split(',,') \n",
    "\n",
    "for i in years: # Get rid of that stupid last comma\n",
    "    if \",\" in i:\n",
    "        years = years[:-1]\n",
    "        i = i[:-1]\n",
    "        years.append(i)\n",
    "print(years)\n"
   ]
  },
  {
   "cell_type": "code",
   "execution_count": 4,
   "metadata": {},
   "outputs": [
    {
     "name": "stdout",
     "output_type": "stream",
     "text": [
      "{'M': 0, 'C': 0, 'F': 0, 'O': 0, 'S': 0, 'T': 0, 'B': 0, 'N': 0, 'U': 0}\n"
     ]
    }
   ],
   "source": [
    "# Set up the nested dictionary\n",
    "mydic = {}\n",
    "innerkey = ['M','C','F','O','S','T','B','N','U']\n",
    "for i in years:\n",
    "    mydic[i] ={}\n",
    "    for key in innerkey:\n",
    "        mydic[i][key] = 0\n",
    "    \n",
    "print(mydic['2013'])"
   ]
  },
  {
   "cell_type": "code",
   "execution_count": 5,
   "metadata": {},
   "outputs": [
    {
     "name": "stdout",
     "output_type": "stream",
     "text": [
      "{'2013': {'M': 49, 'C': 43, 'F': 14, 'O': 7, 'S': 7, 'T': 2, 'B': 3, 'N': 1, 'U': 0}, '2014': {'M': 44, 'C': 43, 'F': 12, 'O': 5, 'S': 4, 'T': 1, 'B': 2, 'N': 1, 'U': 0}, '2015': {'M': 58, 'C': 47, 'F': 16, 'O': 9, 'S': 10, 'T': 1, 'B': 4, 'N': 1, 'U': 2}, '2016': {'M': 60, 'C': 53, 'F': 19, 'O': 9, 'S': 9, 'T': 0, 'B': 1, 'N': 7, 'U': 0}, '2017': {'M': 65, 'C': 60, 'F': 26, 'O': 12, 'S': 3, 'T': 6, 'B': 5, 'N': 5, 'U': 0}, '2018': {'M': 101, 'C': 107, 'F': 45, 'O': 10, 'S': 13, 'T': 8, 'B': 3, 'N': 5, 'U': 0}, '2019': {'M': 92, 'C': 88, 'F': 49, 'O': 13, 'S': 10, 'T': 14, 'B': 3, 'N': 13, 'U': 0}, '2020': {'M': 94, 'C': 88, 'F': 37, 'O': 11, 'S': 8, 'T': 6, 'B': 5, 'N': 13, 'U': 0}}\n"
     ]
    }
   ],
   "source": [
    "# Go through file information and store years\n",
    "yeardata = []\n",
    "for row in info.text.splitlines()[1:]:\n",
    "    line = row.split(',')\n",
    "    yeardata.append(line)\n",
    "\n",
    "for year in yeardata:\n",
    "    for key in enumerate(year):\n",
    "        strkey = str(key[1])\n",
    "        if key[0] == 0 or key[0] == 1:\n",
    "            curryear = years[0]\n",
    "  \n",
    "        elif key[0] == 2 or key[0] == 3:\n",
    "            curryear = years[1]\n",
    "            \n",
    "        elif key[0] == 4 or key[0] == 5:\n",
    "            curryear = years[2]\n",
    "        \n",
    "        elif key[0] == 6 or key[0] == 7:\n",
    "            curryear = years[3]\n",
    "        \n",
    "        elif key[0] == 8 or key[0] == 9:\n",
    "            curryear = years[4]\n",
    "        \n",
    "        elif key[0] == 10 or key[0] == 11:\n",
    "            curryear = years[5]\n",
    "            \n",
    "        elif key[0] == 12 or key[0] == 13:\n",
    "            curryear = years[6]\n",
    "            \n",
    "        elif key[0] == 14 or key[0] == 15:\n",
    "            curryear = years[7]\n",
    "        \n",
    "        try:\n",
    "            mydic[curryear][strkey] += 1\n",
    "\n",
    "        except KeyError:\n",
    "            continue\n",
    "print(mydic)"
   ]
  },
  {
   "cell_type": "markdown",
   "metadata": {},
   "source": [
    "# Analysis\n",
    "This shows how a great majority of CS majors in Notre Dame are white males, pointing out that this field is not very diverse. Over the past 8ish years the trends have not changed much in either direction showing that the lack of diversity is still observable today. "
   ]
  },
  {
   "cell_type": "code",
   "execution_count": 6,
   "metadata": {},
   "outputs": [
    {
     "data": {
      "image/png": "[encoded data removed]",
      "text/plain": [
       "<matplotlib.figure.Figure at 0x7f7a979723c8>"
      ]
     },
     "metadata": {},
     "output_type": "display_data"
    }
   ],
   "source": [
    "def plot_gender_pct(mydic):\n",
    "    fig, ax = plt.subplots(1,1,figsize=(10, 8))\n",
    "    years = sorted(mydic.keys())\n",
    "    males = []\n",
    "    females = []\n",
    "    for year in years:\n",
    "        m = mydic[year]['M']\n",
    "        f = mydic[year]['F']\n",
    "        t = m + f\n",
    "        males.append(m * 100.0 /t)\n",
    "        females.append(f * 100.0 / t)\n",
    "    ax.bar(years, females, color='r', label = 'Female')\n",
    "    ax.bar(years,males,bottom=females, color='b', label = 'Male')\n",
    "    \n",
    "    plt.legend(bbox_to_anchor=(1.04,1), loc=\"upper left\")\n",
    "    plt.show\n",
    "\n",
    "plot_gender_pct(mydic)"
   ]
  },
  {
   "cell_type": "code",
   "execution_count": 7,
   "metadata": {},
   "outputs": [
    {
     "data": {
      "image/png": "[encoded data removed]",
      "text/plain": [
       "<matplotlib.figure.Figure at 0x7f7a90c1e438>"
      ]
     },
     "metadata": {},
     "output_type": "display_data"
    }
   ],
   "source": [
    "def plot_ethnicity_pct(mydic):\n",
    "    # Get info for every ethnicity. \n",
    "    cn =[]\n",
    "    on = []\n",
    "    un = []\n",
    "    sn =[]\n",
    "    tn = []\n",
    "    bn = []\n",
    "    nn = []\n",
    "    for year in years:\n",
    "        c = mydic[year]['C']\n",
    "        o = mydic[year]['O']\n",
    "        u = mydic[year]['U']\n",
    "        s = mydic[year]['S']\n",
    "        t = mydic[year]['T']\n",
    "        b = mydic[year]['B']\n",
    "        n = mydic[year]['N']\n",
    "        tot = c + o + u + s + t + b + n\n",
    "        cn.append(c * 100.0 /tot)\n",
    "        on.append(o * 100.0 /tot)\n",
    "        un.append(u * 100.0 /tot)\n",
    "        sn.append(s * 100.0 /tot)\n",
    "        tn.append(t * 100.0 /tot)\n",
    "        bn.append(b * 100.0 /tot)\n",
    "        nn.append(n * 100.0 /tot)\n",
    "    labels = ['Caucasian','Asian', 'Hispanic', 'Black','Native','Multiple','Undeclared']\n",
    "    fig, ax = plt.subplots()\n",
    "    ax.stackplot(years,cn,on,sn,bn,nn,tn,un, labels=labels)\n",
    "    ax.legend(loc=3)\n",
    "    plt.show()\n",
    "    \n",
    "plot_ethnicity_pct(mydic)"
   ]
  },
  {
   "cell_type": "markdown",
   "metadata": {},
   "source": [
    "# Discussion\n",
    "Honestly I do not find the issues of gender and ethnic diversity to be something I look for in the classroom. I don't see others as different color, but as fellow CS majors and nerds, sharing passion for computing. I don't think it is in the department to increase diversity, but the on the University to show the possibilites of the CSE majors as there is a certain technological neccecsity for one to become interested in Computer Science, a certain amount of access needed. Overall I feel that the technology industry should try to improve workplace diversity, as there would be an influx of fresh ideas from cultures that the tech places woudln't usually get. \n",
    "\n",
    "I've never felt left out or segregated in CSE, nor anywhere to be honest. However, I was surprised to see that Hispanic students such as myself are mroe prominent in ND CSE than African American students. \n",
    "\n",
    "Lack of sleep, the only challenges I face are academic challenges, never anything but. "
   ]
  },
  {
   "cell_type": "code",
   "execution_count": null,
   "metadata": {
    "collapsed": true
   },
   "outputs": [],
   "source": []
  }
 ],
 "metadata": {
  "kernelspec": {
   "display_name": "Python 3",
   "language": "python",
   "name": "python3"
  },
  "language_info": {
   "codemirror_mode": {
    "name": "ipython",
    "version": 3
   },
   "file_extension": ".py",
   "mimetype": "text/x-python",
   "name": "python",
   "nbconvert_exporter": "python",
   "pygments_lexer": "ipython3",
   "version": "3.6.3"
  }
 },
 "nbformat": 4,
 "nbformat_minor": 2
}
